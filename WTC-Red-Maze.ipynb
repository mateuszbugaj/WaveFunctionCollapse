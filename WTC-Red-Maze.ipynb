{
 "cells": [
  {
   "cell_type": "code",
   "execution_count": 1,
   "metadata": {},
   "outputs": [],
   "source": [
    "import matplotlib.pyplot as plt\n",
    "import matplotlib\n",
    "import numpy as np\n",
    "import random\n",
    "import math\n",
    "from typing import List"
   ]
  },
  {
   "cell_type": "markdown",
   "metadata": {},
   "source": [
    "## Load sample and extract patterns"
   ]
  },
  {
   "cell_type": "code",
   "execution_count": 2,
   "metadata": {},
   "outputs": [],
   "source": [
    "pixels = [[255, 255, 255, 255], [255, 0, 0, 0], [255, 0, 138, 0], [255, 0, 0, 0]]\n",
    "input_size = (4, 4)\n",
    "output_size = (50, 50)"
   ]
  },
  {
   "cell_type": "code",
   "execution_count": 3,
   "metadata": {},
   "outputs": [
    {
     "name": "stdout",
     "output_type": "stream",
     "text": [
      "[[255, 255, 255, 255], [255, 0, 0, 0], [255, 0, 138, 0], [255, 0, 0, 0]]\n"
     ]
    },
    {
     "data": {
      "image/png": "[encoded data removed]",
      "text/plain": [
       "<Figure size 432x288 with 1 Axes>"
      ]
     },
     "metadata": {
      "needs_background": "light"
     },
     "output_type": "display_data"
    }
   ],
   "source": [
    "plt.imshow(pixels, cmap=\"gray\") # create plt\n",
    "print(pixels)\n",
    "plt.show()"
   ]
  },
  {
   "cell_type": "code",
   "execution_count": 4,
   "metadata": {},
   "outputs": [],
   "source": [
    "class Pattern:\n",
    "    def __init__(self, pixels):\n",
    "        self.pixels = pixels\n",
    "        \n",
    "    def __len__(self):\n",
    "        return 1"
   ]
  },
  {
   "cell_type": "code",
   "execution_count": 5,
   "metadata": {},
   "outputs": [],
   "source": [
    "def get_all_rotations(pixelMatrix):\n",
    "    \"\"\"\n",
    "    Return original array as well as rotated by 90, 180 and 270 degrees in the form of tuples\n",
    "    \"\"\"\n",
    "    pixelMatrix_rotated_1 = [[pixelMatrix[j][i] for j in range(len(pixelMatrix))] for i in range(len(pixelMatrix[0])-1,-1,-1)]\n",
    "    pixelMatrix_rotated_2 = [[pixelMatrix_rotated_1[j][i] for j in range(len(pixelMatrix_rotated_1))] for i in range(len(pixelMatrix_rotated_1[0])-1,-1,-1)]\n",
    "    pixelMatrix_rotated_3 = [[pixelMatrix_rotated_2[j][i] for j in range(len(pixelMatrix_rotated_2))] for i in range(len(pixelMatrix_rotated_2[0])-1,-1,-1)]\n",
    "    return tuple(tuple(row) for row in pixelMatrix), \\\n",
    "            tuple(tuple(row) for row in pixelMatrix_rotated_1), \\\n",
    "            tuple(tuple(row) for row in pixelMatrix_rotated_2), \\\n",
    "            tuple(tuple(row) for row in pixelMatrix_rotated_3)\n",
    "\n",
    "N = 2 # pattern size\n",
    "patterns = []\n",
    "weights = {} # dict pattern -> occurence\n",
    "probability = {} # dict pattern -> probability\n",
    "for y in range(input_size[0]-(N-1)): # row \n",
    "    for x in range(input_size[1]-(N-1)): # column\n",
    "        pattern = []\n",
    "        for k in pixels[y:y+N]:\n",
    "            pattern.append([int(i) for i in k[x:x+N]]) # change array to int really quick\n",
    "        pattern_rotations = get_all_rotations(pattern)\n",
    "        \n",
    "        for rotation in pattern_rotations:\n",
    "            if rotation not in weights:\n",
    "                weights[rotation] = 1\n",
    "            else:\n",
    "                weights[rotation] += 1\n",
    "        \n",
    "        patterns.extend(pattern_rotations)\n",
    "        \n",
    "# remove duplicates\n",
    "patterns_without_duplicates = []\n",
    "for patt in patterns:\n",
    "    if patt not in patterns_without_duplicates:\n",
    "        patterns_without_duplicates.append(patt)\n",
    "patterns = patterns_without_duplicates\n",
    "\n",
    "sum_of_weights = 0\n",
    "for weight in weights:\n",
    "    sum_of_weights += weights[weight]\n",
    "\n",
    "for pattern in patterns:\n",
    "    probability[pattern] = weights[pattern] / sum_of_weights\n",
    "    \n",
    "# convert patterns from tuples into Pattern objects\n",
    "patterns = [Pattern(p) for p in patterns]\n",
    "weights = {pattern:weights[pattern.pixels] for pattern in patterns}\n",
    "probability = {pattern:probability[pattern.pixels] for pattern in patterns}"
   ]
  },
  {
   "cell_type": "code",
   "execution_count": 6,
   "metadata": {},
   "outputs": [
    {
     "data": {
      "image/png": "[encoded data removed]",
      "text/plain": [
       "<Figure size 720x720 with 12 Axes>"
      ]
     },
     "metadata": {},
     "output_type": "display_data"
    }
   ],
   "source": [
    "# show \n",
    "plt.figure(figsize=(10,10))\n",
    "for m in range(len(patterns)):\n",
    "    axs = plt.subplot(4, math.ceil(len(patterns)/4), m+1)\n",
    "    axs.imshow(patterns[m].pixels, cmap=\"gray\", vmin=0, vmax=255)\n",
    "    axs.set_xticks([])\n",
    "    axs.set_yticks([])\n",
    "    plt.title(\"weight: %.0f prob: %.2f\"%(weights[patterns[m]], probability[patterns[m]]))\n",
    "plt.show()"
   ]
  },
  {
   "cell_type": "markdown",
   "metadata": {},
   "source": [
    "## Create Index data structure describing rules for placing patterns"
   ]
  },
  {
   "cell_type": "code",
   "execution_count": 7,
   "metadata": {},
   "outputs": [],
   "source": [
    "UP = (0, -1)\n",
    "LEFT = (-1, 0)\n",
    "DOWN = (0, 1)\n",
    "RIGHT = (1, 0)\n",
    "UP_LEFT = (-1, -1)\n",
    "UP_RIGHT = (1, -1)\n",
    "DOWN_LEFT = (-1, 1)\n",
    "DOWN_RIGHT = (1, 1)\n",
    "dirs = [UP, DOWN, LEFT, RIGHT, UP_LEFT, UP_RIGHT, DOWN_LEFT, DOWN_RIGHT]\n",
    "\n",
    "def valid_dirs(pos):\n",
    "    x, y = pos\n",
    "    \n",
    "    valid_directions = []\n",
    "\n",
    "    if x == 0:\n",
    "        valid_directions.extend([RIGHT])\n",
    "        if y == 0:\n",
    "            valid_directions.extend([DOWN, DOWN_RIGHT])\n",
    "        elif y == output_size[1]-1:\n",
    "            valid_directions.extend([UP, UP_RIGHT])\n",
    "        else:\n",
    "            valid_directions.extend([DOWN, DOWN_RIGHT, UP, UP_RIGHT])\n",
    "    elif x == output_size[0]-1:\n",
    "        valid_directions.extend([LEFT])\n",
    "        if y == 0:\n",
    "            valid_directions.extend([DOWN, DOWN_LEFT])\n",
    "        elif y == output_size[1]-1:\n",
    "            valid_directions.extend([UP, UP_LEFT])\n",
    "        else:\n",
    "            valid_directions.extend([DOWN, DOWN_LEFT, UP, UP_LEFT])\n",
    "    else:\n",
    "        valid_directions.extend([LEFT, RIGHT])\n",
    "        if y == 0:\n",
    "            valid_directions.extend([DOWN, DOWN_LEFT, DOWN_RIGHT])\n",
    "        elif y == output_size[1]-1:\n",
    "            valid_directions.extend([UP, UP_LEFT, UP_RIGHT])\n",
    "        else: \n",
    "            valid_directions.extend([UP, UP_LEFT, UP_RIGHT, DOWN, DOWN_LEFT, DOWN_RIGHT])\n",
    "    \n",
    "    return valid_directions"
   ]
  },
  {
   "cell_type": "code",
   "execution_count": 8,
   "metadata": {},
   "outputs": [],
   "source": [
    "class Index:\n",
    "    \"\"\"\n",
    "    Tells which combinations of patterns are allowed for all patterns\n",
    "    \n",
    "    data (dict):\n",
    "        pattern -> posible_connections (dict):\n",
    "                    relative_position -> patterns (list)\n",
    "    \"\"\"\n",
    "    \n",
    "    def __init__(self, patterns: List[Pattern]):\n",
    "        self.data = {}\n",
    "        for pattern in patterns:\n",
    "            self.data[pattern] = {}\n",
    "            for d in dirs: \n",
    "                self.data[pattern][d] = []\n",
    "    \n",
    "    def add_rule(self, pattern: Pattern, relative_position: tuple, next_pattern: Pattern):\n",
    "        self.data[pattern][relative_position].append(next_pattern)\n",
    "        \n",
    "        \n",
    "    def check_possibility(self, pattern: Pattern, check_pattern: Pattern, relative_pos: tuple):\n",
    "        if isinstance(pattern, list):\n",
    "            pattern = pattern[0]\n",
    "            \n",
    "        return check_pattern in self.data[pattern][relative_pos]\n",
    "\n",
    "index = Index(patterns)"
   ]
  },
  {
   "cell_type": "code",
   "execution_count": 9,
   "metadata": {},
   "outputs": [],
   "source": [
    "def get_offset_tiles(pattern: Pattern, offset: tuple):\n",
    "    if offset == (0, 0):\n",
    "        return pattern.pixels\n",
    "    if offset == (-1, -1):\n",
    "        return tuple([pattern.pixels[1][1]])\n",
    "    if offset == (0, -1):\n",
    "        return tuple(pattern.pixels[1][:])\n",
    "    if offset == (1, -1):\n",
    "        return tuple([pattern.pixels[1][0]])\n",
    "    if offset == (-1, 0):\n",
    "        return tuple([pattern.pixels[0][1], pattern.pixels[1][1]])\n",
    "    if offset == (1, 0):\n",
    "        return tuple([pattern.pixels[0][0], pattern.pixels[1][0]])\n",
    "    if offset == (-1, 1):\n",
    "        return tuple([pattern.pixels[0][1]])\n",
    "    if offset == (0, 1):\n",
    "        return tuple(pattern.pixels[0][:])\n",
    "    if offset == (1, 1):\n",
    "        return tuple([pattern.pixels[0][0]])"
   ]
  },
  {
   "cell_type": "code",
   "execution_count": 10,
   "metadata": {},
   "outputs": [],
   "source": [
    "# Generate rules for Index and save them\n",
    "rules_num = 0\n",
    "for pattern in patterns:\n",
    "    for d in dirs:\n",
    "        for pattern_next in patterns:\n",
    "            # here's checking all offsets \n",
    "            overlap = get_offset_tiles(pattern_next, d)\n",
    "            og_dir = tuple([d[0]*-1, d[1]*-1])\n",
    "            part_of_og_pattern = get_offset_tiles(pattern, og_dir)\n",
    "            if (overlap) == (part_of_og_pattern):\n",
    "                index.add_rule(pattern, d, pattern_next)\n",
    "                rules_num+=1"
   ]
  },
  {
   "cell_type": "code",
   "execution_count": 21,
   "metadata": {},
   "outputs": [],
   "source": [
    "# # Show data in Index\n",
    "# print(f\"There are {rules_num} rules\")\n",
    "\n",
    "# for d in index.data:\n",
    "#     print(f'Pattern {d.pixels}')\n",
    "#     for pos in index.data[d]:\n",
    "#         print(f' Pos {pos}')\n",
    "#         for pattern in index.data[d][pos]:\n",
    "#             print(f' {pattern.pixels}')"
   ]
  },
  {
   "cell_type": "markdown",
   "metadata": {},
   "source": [
    "## Define coefficients"
   ]
  },
  {
   "cell_type": "code",
   "execution_count": 12,
   "metadata": {},
   "outputs": [],
   "source": [
    "def initialize_wave_function(size):\n",
    "    \"\"\"\n",
    "    Initialize wave function of the size 'size' where in each tile no patterns are foridden yet.\n",
    "    Coefficients describe what patterns can occur in each tile. At the beggining, at every possition there is full set\n",
    "    of patterns available\n",
    "    \"\"\"\n",
    "    \n",
    "    coefficients = []\n",
    "    \n",
    "    for col in range(size[0]):\n",
    "        row = []\n",
    "        for r in range(size[1]):\n",
    "            row.append(patterns)\n",
    "        coefficients.append(row)\n",
    "    return coefficients\n",
    "\n",
    "coefficients = initialize_wave_function(output_size)"
   ]
  },
  {
   "cell_type": "markdown",
   "metadata": {},
   "source": [
    "## Utility functions"
   ]
  },
  {
   "cell_type": "code",
   "execution_count": 13,
   "metadata": {},
   "outputs": [],
   "source": [
    "def is_fully_collapsed():\n",
    "    \"\"\"\n",
    "    Check if wave function is fully collapsed meaning that for each tile available is only one pattern\n",
    "    \"\"\"\n",
    "    for col in coefficients:\n",
    "        for entry in col:\n",
    "            if(len(entry)>1):\n",
    "                return False\n",
    "    return True"
   ]
  },
  {
   "cell_type": "code",
   "execution_count": 14,
   "metadata": {},
   "outputs": [],
   "source": [
    "def get_possible_patterns_at_position(position):\n",
    "    \"\"\"\n",
    "    Return possible patterns at position (x, y)\n",
    "    \"\"\"\n",
    "    x, y = position\n",
    "    possible_patterns = coefficients[x][y]\n",
    "    return possible_patterns"
   ]
  },
  {
   "cell_type": "code",
   "execution_count": 15,
   "metadata": {},
   "outputs": [],
   "source": [
    "def get_shannon_entropy(position):\n",
    "    \"\"\"\n",
    "    Calcualte the Shannon Entropy of the wavefunction at position (x, y)\n",
    "    \"\"\"\n",
    "    x, y = position\n",
    "    entropy = 0\n",
    "    \n",
    "    # A cell with one valid pattern has 0 entropy\n",
    "    if len(coefficients[x][y]) == 1:\n",
    "        return 0\n",
    "    \n",
    "    for pattern in coefficients[x][y]:\n",
    "        entropy += probability[pattern] * math.log(probability[pattern], 2)\n",
    "    entropy *= -1\n",
    "    \n",
    "    # Add noise to break ties and near-ties\n",
    "    entropy -= random.uniform(0, 0.1)\n",
    "    return entropy"
   ]
  },
  {
   "cell_type": "code",
   "execution_count": 16,
   "metadata": {},
   "outputs": [],
   "source": [
    "def get_min_entropy_pos():\n",
    "    \"\"\"\n",
    "    Return position of tile with the lowest entropy\n",
    "    \"\"\"\n",
    "    minEntropy = None\n",
    "    minEntropyPos = None\n",
    "    \n",
    "    for x, col in enumerate(coefficients):\n",
    "        for y, row in enumerate(col):\n",
    "            entropy = get_shannon_entropy((x, y))\n",
    "            \n",
    "            if entropy == 0:\n",
    "                continue\n",
    "            \n",
    "            if minEntropy is None or entropy < minEntropy:\n",
    "                minEntropy = entropy\n",
    "                minEntropyPos = (x, y)\n",
    "    return minEntropyPos"
   ]
  },
  {
   "cell_type": "markdown",
   "metadata": {},
   "source": [
    "## Algorithm itself"
   ]
  },
  {
   "cell_type": "code",
   "execution_count": 17,
   "metadata": {},
   "outputs": [],
   "source": [
    "def observe():\n",
    "    # Find the lowest entropy\n",
    "    min_entropy_pos = get_min_entropy_pos()\n",
    "    \n",
    "    if min_entropy_pos == None:\n",
    "        print(\"All tiles have 0 entropy\")\n",
    "        return\n",
    "    \n",
    "    # Choose a pattern at lowest entropy position which is most frequent in the sample\n",
    "    possible_patterns = get_possible_patterns_at_position(min_entropy_pos)\n",
    "    \n",
    "    # calculate max probability for patterns that are left\n",
    "    max_p = 0\n",
    "    for pattern in possible_patterns:\n",
    "        if max_p < probability[pattern]:\n",
    "            max_p == probability[pattern]\n",
    "    \n",
    "    \n",
    "    semi_random_pattern = random.choice([pat for pat in possible_patterns if probability[pat]>=max_p])\n",
    "    \n",
    "    # Set this pattern to be the only available at this position\n",
    "    coefficients[min_entropy_pos[0]][min_entropy_pos[1]] = semi_random_pattern\n",
    "    \n",
    "    return min_entropy_pos"
   ]
  },
  {
   "cell_type": "code",
   "execution_count": 18,
   "metadata": {},
   "outputs": [],
   "source": [
    "def propagate(min_entropy_pos):\n",
    "    stack = [min_entropy_pos]\n",
    "    \n",
    "    \n",
    "    while len(stack) > 0:\n",
    "        pos = stack.pop()\n",
    "        \n",
    "        possible_patterns = get_possible_patterns_at_position(pos)\n",
    "        \n",
    "        # Iterate through each location immediately adjacent to the current location\n",
    "        for d in valid_dirs(pos):\n",
    "            adjacent_pos = (pos[0] + d[0], pos[1] + d[1])\n",
    "            possible_patterns_at_adjacent = get_possible_patterns_at_position(adjacent_pos)\n",
    "            \n",
    "            # Iterate over all still available patterns in adjacent tile \n",
    "            # and check if pattern is still possible in this location\n",
    "            if not isinstance(possible_patterns_at_adjacent, list):\n",
    "                possible_patterns_at_adjacent = [possible_patterns_at_adjacent]\n",
    "            for possible_pattern_at_adjacent in possible_patterns_at_adjacent:\n",
    "                if len(possible_patterns) > 1:\n",
    "                    is_possible = any([index.check_possibility(pattern, possible_pattern_at_adjacent, d) for pattern in possible_patterns])\n",
    "                else:\n",
    "                    is_possible = index.check_possibility(possible_patterns, possible_pattern_at_adjacent, d)\n",
    "                    \n",
    "                \"\"\"\n",
    "                If the tile is not compatible with any of the tiles in the current location's wavefunction\n",
    "                then it's impossible for it to ever get choosen so it needs to be removed from the other\n",
    "                location's wavefunction\n",
    "                \"\"\"\n",
    "                if not is_possible:\n",
    "                    x, y = adjacent_pos\n",
    "                    coefficients[x][y] = [patt for patt in coefficients[x][y] if patt.pixels != possible_pattern_at_adjacent.pixels]\n",
    "                        \n",
    "                    if adjacent_pos not in stack:\n",
    "                        stack.append(adjacent_pos)"
   ]
  },
  {
   "cell_type": "code",
   "execution_count": 19,
   "metadata": {},
   "outputs": [],
   "source": [
    "while not is_fully_collapsed():\n",
    "    min_entropy_pos = observe()\n",
    "    propagate(min_entropy_pos)"
   ]
  },
  {
   "cell_type": "markdown",
   "metadata": {},
   "source": [
    "## Post process"
   ]
  },
  {
   "cell_type": "code",
   "execution_count": 20,
   "metadata": {},
   "outputs": [
    {
     "data": {
      "image/png": "[encoded data removed]",
      "text/plain": [
       "<Figure size 432x288 with 1 Axes>"
      ]
     },
     "metadata": {
      "needs_background": "light"
     },
     "output_type": "display_data"
    }
   ],
   "source": [
    "final_pixels = []\n",
    "\n",
    "for i in coefficients:\n",
    "    row = []\n",
    "    for j in i:\n",
    "        if isinstance(j, list):\n",
    "            first_pixel = j[0].pixels[0][0]\n",
    "        else:\n",
    "            first_pixel = j.pixels[0][0]\n",
    "        row.append(first_pixel)\n",
    "    final_pixels.append(row)\n",
    "    \n",
    "plt.imshow(final_pixels, cmap=\"gray\")\n",
    "plt.show()"
   ]
  },
  {
   "cell_type": "code",
   "execution_count": null,
   "metadata": {},
   "outputs": [],
   "source": []
  }
 ],
 "metadata": {
  "kernelspec": {
   "display_name": "Python 3",
   "language": "python",
   "name": "python3"
  },
  "language_info": {
   "codemirror_mode": {
    "name": "ipython",
    "version": 3
   },
   "file_extension": ".py",
   "mimetype": "text/x-python",
   "name": "python",
   "nbconvert_exporter": "python",
   "pygments_lexer": "ipython3",
   "version": "3.7.7"
  }
 },
 "nbformat": 4,
 "nbformat_minor": 4
}
